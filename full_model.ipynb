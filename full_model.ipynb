{
 "cells": [
  {
   "cell_type": "code",
   "execution_count": 19,
   "metadata": {
    "collapsed": false
   },
   "outputs": [],
   "source": [
    "import pandas as pd\n",
    "import numpy as np\n",
    "import scipy.sparse\n",
    "\n",
    "\n",
    "import xgboost as xgb\n",
    "import matplotlib.pyplot as plt\n",
    "import seaborn as sns\n",
    "%matplotlib inline\n",
    "from sklearn.metrics import log_loss\n",
    "from sklearn.cross_validation import train_test_split\n",
    "from sklearn.preprocessing import StandardScaler\n",
    "from sklearn.linear_model import LogisticRegression\n",
    "from sklearn.feature_extraction import FeatureHasher\n",
    "import scipy.sparse\n",
    "from sklearn.pipeline import Pipeline\n",
    "\n",
    "\n",
    "from sklearn.feature_extraction.text import CountVectorizer\n",
    "from sklearn.feature_extraction.text import TfidfTransformer\n"
   ]
  },
  {
   "cell_type": "code",
   "execution_count": 59,
   "metadata": {
    "collapsed": false
   },
   "outputs": [
    {
     "data": {
      "text/html": [
       "<div>\n",
       "<table border=\"1\" class=\"dataframe\">\n",
       "  <thead>\n",
       "    <tr style=\"text-align: right;\">\n",
       "      <th></th>\n",
       "      <th>bathrooms</th>\n",
       "      <th>bedrooms</th>\n",
       "      <th>building_id</th>\n",
       "      <th>created</th>\n",
       "      <th>description</th>\n",
       "      <th>display_address</th>\n",
       "      <th>features</th>\n",
       "      <th>interest_level</th>\n",
       "      <th>latitude</th>\n",
       "      <th>listing_id</th>\n",
       "      <th>longitude</th>\n",
       "      <th>manager_id</th>\n",
       "      <th>photos</th>\n",
       "      <th>price</th>\n",
       "      <th>street_address</th>\n",
       "    </tr>\n",
       "  </thead>\n",
       "  <tbody>\n",
       "    <tr>\n",
       "      <th>10.0</th>\n",
       "      <td>1.5</td>\n",
       "      <td>3</td>\n",
       "      <td>53a5b119ba8f7b61d4e010512e0dfc85</td>\n",
       "      <td>2016-06-24 07:54:24</td>\n",
       "      <td>A Brand New 3 Bedroom 1.5 bath ApartmentEnjoy ...</td>\n",
       "      <td>Metropolitan Avenue</td>\n",
       "      <td>[]</td>\n",
       "      <td>medium</td>\n",
       "      <td>40.7145</td>\n",
       "      <td>7211212</td>\n",
       "      <td>-73.9425</td>\n",
       "      <td>5ba989232d0489da1b5f2c45f6688adc</td>\n",
       "      <td>[https://photos.renthop.com/2/7211212_1ed4542e...</td>\n",
       "      <td>3000</td>\n",
       "      <td>792 Metropolitan Avenue</td>\n",
       "    </tr>\n",
       "    <tr>\n",
       "      <th>10000.0</th>\n",
       "      <td>1.0</td>\n",
       "      <td>2</td>\n",
       "      <td>c5c8a357cba207596b04d1afd1e4f130</td>\n",
       "      <td>2016-06-12 12:19:27</td>\n",
       "      <td></td>\n",
       "      <td>Columbus Avenue</td>\n",
       "      <td>[Doorman, Elevator, Fitness Center, Cats Allow...</td>\n",
       "      <td>low</td>\n",
       "      <td>40.7947</td>\n",
       "      <td>7150865</td>\n",
       "      <td>-73.9667</td>\n",
       "      <td>7533621a882f71e25173b27e3139d83d</td>\n",
       "      <td>[https://photos.renthop.com/2/7150865_be3306c5...</td>\n",
       "      <td>5465</td>\n",
       "      <td>808 Columbus Avenue</td>\n",
       "    </tr>\n",
       "  </tbody>\n",
       "</table>\n",
       "</div>"
      ],
      "text/plain": [
       "         bathrooms  bedrooms                       building_id  \\\n",
       "10.0           1.5         3  53a5b119ba8f7b61d4e010512e0dfc85   \n",
       "10000.0        1.0         2  c5c8a357cba207596b04d1afd1e4f130   \n",
       "\n",
       "                     created  \\\n",
       "10.0     2016-06-24 07:54:24   \n",
       "10000.0  2016-06-12 12:19:27   \n",
       "\n",
       "                                               description  \\\n",
       "10.0     A Brand New 3 Bedroom 1.5 bath ApartmentEnjoy ...   \n",
       "10000.0                                                      \n",
       "\n",
       "             display_address  \\\n",
       "10.0     Metropolitan Avenue   \n",
       "10000.0      Columbus Avenue   \n",
       "\n",
       "                                                  features interest_level  \\\n",
       "10.0                                                    []         medium   \n",
       "10000.0  [Doorman, Elevator, Fitness Center, Cats Allow...            low   \n",
       "\n",
       "         latitude  listing_id  longitude                        manager_id  \\\n",
       "10.0      40.7145     7211212   -73.9425  5ba989232d0489da1b5f2c45f6688adc   \n",
       "10000.0   40.7947     7150865   -73.9667  7533621a882f71e25173b27e3139d83d   \n",
       "\n",
       "                                                    photos  price  \\\n",
       "10.0     [https://photos.renthop.com/2/7211212_1ed4542e...   3000   \n",
       "10000.0  [https://photos.renthop.com/2/7150865_be3306c5...   5465   \n",
       "\n",
       "                  street_address  \n",
       "10.0     792 Metropolitan Avenue  \n",
       "10000.0      808 Columbus Avenue  "
      ]
     },
     "execution_count": 59,
     "metadata": {},
     "output_type": "execute_result"
    }
   ],
   "source": [
    "train = pd.read_json('input/train.json', orient='columns')\n",
    "train.head(2)"
   ]
  },
  {
   "cell_type": "markdown",
   "metadata": {},
   "source": [
    "## Helper Functions"
   ]
  },
  {
   "cell_type": "code",
   "execution_count": 3,
   "metadata": {
    "collapsed": true
   },
   "outputs": [],
   "source": [
    "def createSamples(X_train, y_train, X_test, y_test, num_train= 1000, num_test=400):\n",
    "    \n",
    "    nums = np.arange(X_train.shape[0])\n",
    "    np.random.shuffle(nums)\n",
    "    X_train_samp = X_train.iloc[nums[:num_train]]\n",
    "    y_train_samp = y_train.iloc[nums[:num_train]]\n",
    "\n",
    "\n",
    "    test_nums = np.arange(X_test.shape[0])\n",
    "    np.random.shuffle(test_nums)\n",
    "\n",
    "    X_test_samp = X_test.iloc[test_nums[:num_test]]\n",
    "    y_test_samp = y_test.iloc[test_nums[:num_test]]\n",
    "    return X_train_samp, y_train_samp, X_test_samp, y_test_samp\n",
    "\n",
    "def get_accuracy(preds, y_test_samp):\n",
    "    return (preds == y_test_samp).sum() / preds.shape[0] "
   ]
  },
  {
   "cell_type": "code",
   "execution_count": 4,
   "metadata": {
    "collapsed": false
   },
   "outputs": [],
   "source": [
    "def subAndSample(subset, num_train=20000, num_test=2000, comp=False):\n",
    "    X = subset.drop('enc_interest', axis=1)\n",
    "    y = subset.enc_interest\n",
    "    X_train, X_test, y_train, y_test = train_test_split(X, y, test_size=0.2, stratify=y)\n",
    "    if comp:\n",
    "        return X_train, y_train, X_test, y_test \n",
    "    else:\n",
    "        return createSamples(X_train, y_train, X_test, y_test, num_train=num_train, num_test=num_test)"
   ]
  },
  {
   "cell_type": "code",
   "execution_count": 8,
   "metadata": {
    "collapsed": false
   },
   "outputs": [],
   "source": [
    "def standardize(X_train, X_test):\n",
    "    sc = StandardScaler()\n",
    "    sc.fit(X_train)\n",
    "    X_train = sc.transform(X_train)\n",
    "    X_test = sc.transform(X_test)\n",
    "    return X_train, X_test"
   ]
  },
  {
   "cell_type": "code",
   "execution_count": 16,
   "metadata": {
    "collapsed": true
   },
   "outputs": [],
   "source": [
    "def hashFeature(X_train, X_test, feature):\n",
    "    h = FeatureHasher(input_type='string')\n",
    "    hashed = h.fit_transform(X_train[feature])\n",
    "    test_hashed = h.transform(X_test[feature])\n",
    "    return hashed, test_hashed"
   ]
  },
  {
   "cell_type": "code",
   "execution_count": 60,
   "metadata": {
    "collapsed": true
   },
   "outputs": [],
   "source": [
    "train['enc_interest'] = train.interest_level.map({'low': 0, 'medium': 1, 'high':2})\n",
    "\n",
    "train['created'] = pd.to_datetime(train.created)\n",
    "train['hour'] = train.created.dt.hour\n",
    "train['feat_str'] = train.features.apply(lambda x: \" \".join(x))\n",
    "\n",
    "train['num_photos'] = train.photos.apply(lambda x: len(x))\n",
    "train['no_photos'] = train.num_photos == 0\n",
    "train['no_photos'] = train.no_photos.astype(int)"
   ]
  },
  {
   "cell_type": "code",
   "execution_count": 61,
   "metadata": {
    "collapsed": false
   },
   "outputs": [],
   "source": [
    "X_train, y_train, X_test, y_test = subAndSample(train, comp=True)\n",
    "\n",
    "tr_build_id, test_build_id = hashFeature(X_train, X_test, 'building_id')\n",
    "tr_man_id, test_man_id = hashFeature(X_train, X_test, 'manager_id')\n",
    "\n",
    "\n",
    "\n",
    "text_proc_feat = Pipeline([('vect', CountVectorizer(ngram_range=(1, 2))),\n",
    "                      ('tfidf', TfidfTransformer(use_idf=True)) ])\n",
    "text_proc_desc = Pipeline([('vect', CountVectorizer(ngram_range=(1, 2))),\n",
    "                      ('tfidf', TfidfTransformer(use_idf=True)) ])\n",
    "\n",
    "text_proc_feat.fit(X_train.feat_str.values)\n",
    "tr_feat_text = text_proc_feat.transform(X_train.feat_str.values)\n",
    "test_feat_text = text_proc_feat.transform(X_test.feat_str.values)\n",
    "\n",
    "\n",
    "text_proc_desc.fit(X_train.description.values)\n",
    "tr_desc_mat = text_proc_desc.transform(X_train.description.values)\n",
    "test_desc_mat = text_proc_desc.transform(X_test.description.values)\n"
   ]
  },
  {
   "cell_type": "code",
   "execution_count": 62,
   "metadata": {
    "collapsed": false
   },
   "outputs": [],
   "source": [
    "to_drop = ['building_id', 'created', 'description',\n",
    "       'display_address', 'features', 'feat_str', 'interest_level',\n",
    "       'listing_id',  'manager_id', 'photos', 'street_address']\n",
    "\n",
    "\n",
    "X_train = X_train.drop(to_drop, axis=1)\n",
    "X_test = X_test.drop(to_drop, axis=1)\n"
   ]
  },
  {
   "cell_type": "code",
   "execution_count": 63,
   "metadata": {
    "collapsed": false
   },
   "outputs": [
    {
     "data": {
      "text/html": [
       "<div>\n",
       "<table border=\"1\" class=\"dataframe\">\n",
       "  <thead>\n",
       "    <tr style=\"text-align: right;\">\n",
       "      <th></th>\n",
       "      <th>bathrooms</th>\n",
       "      <th>bedrooms</th>\n",
       "      <th>latitude</th>\n",
       "      <th>longitude</th>\n",
       "      <th>price</th>\n",
       "      <th>hour</th>\n",
       "      <th>num_photos</th>\n",
       "      <th>no_photos</th>\n",
       "    </tr>\n",
       "  </thead>\n",
       "  <tbody>\n",
       "    <tr>\n",
       "      <th>19544.0</th>\n",
       "      <td>1.0</td>\n",
       "      <td>2</td>\n",
       "      <td>40.7492</td>\n",
       "      <td>-73.9789</td>\n",
       "      <td>3090</td>\n",
       "      <td>3</td>\n",
       "      <td>8</td>\n",
       "      <td>0</td>\n",
       "    </tr>\n",
       "    <tr>\n",
       "      <th>62173.0</th>\n",
       "      <td>2.0</td>\n",
       "      <td>2</td>\n",
       "      <td>40.7084</td>\n",
       "      <td>-74.0057</td>\n",
       "      <td>5075</td>\n",
       "      <td>6</td>\n",
       "      <td>5</td>\n",
       "      <td>0</td>\n",
       "    </tr>\n",
       "    <tr>\n",
       "      <th>106499.0</th>\n",
       "      <td>1.0</td>\n",
       "      <td>2</td>\n",
       "      <td>40.7530</td>\n",
       "      <td>-73.9695</td>\n",
       "      <td>4000</td>\n",
       "      <td>6</td>\n",
       "      <td>6</td>\n",
       "      <td>0</td>\n",
       "    </tr>\n",
       "    <tr>\n",
       "      <th>93075.0</th>\n",
       "      <td>1.0</td>\n",
       "      <td>0</td>\n",
       "      <td>40.7338</td>\n",
       "      <td>-73.9865</td>\n",
       "      <td>2500</td>\n",
       "      <td>6</td>\n",
       "      <td>3</td>\n",
       "      <td>0</td>\n",
       "    </tr>\n",
       "    <tr>\n",
       "      <th>49075.0</th>\n",
       "      <td>2.0</td>\n",
       "      <td>3</td>\n",
       "      <td>40.7252</td>\n",
       "      <td>-73.9947</td>\n",
       "      <td>5750</td>\n",
       "      <td>6</td>\n",
       "      <td>6</td>\n",
       "      <td>0</td>\n",
       "    </tr>\n",
       "  </tbody>\n",
       "</table>\n",
       "</div>"
      ],
      "text/plain": [
       "          bathrooms  bedrooms  latitude  longitude  price  hour  num_photos  \\\n",
       "19544.0         1.0         2   40.7492   -73.9789   3090     3           8   \n",
       "62173.0         2.0         2   40.7084   -74.0057   5075     6           5   \n",
       "106499.0        1.0         2   40.7530   -73.9695   4000     6           6   \n",
       "93075.0         1.0         0   40.7338   -73.9865   2500     6           3   \n",
       "49075.0         2.0         3   40.7252   -73.9947   5750     6           6   \n",
       "\n",
       "          no_photos  \n",
       "19544.0           0  \n",
       "62173.0           0  \n",
       "106499.0          0  \n",
       "93075.0           0  \n",
       "49075.0           0  "
      ]
     },
     "execution_count": 63,
     "metadata": {},
     "output_type": "execute_result"
    }
   ],
   "source": [
    "X_train.head()"
   ]
  },
  {
   "cell_type": "code",
   "execution_count": 64,
   "metadata": {
    "collapsed": true
   },
   "outputs": [],
   "source": [
    "X_train, X_test = standardize(X_train,X_test)\n",
    "\n",
    "X_train_concat = scipy.sparse.hstack((X_train,\n",
    "                                      tr_build_id, \n",
    "                                      tr_man_id,\n",
    "                                      tr_feat_text, \n",
    "                                      tr_desc_mat))\n",
    "\n",
    "X_test_concat = scipy.sparse.hstack((X_test, \n",
    "                                     test_build_id, \n",
    "                                     test_man_id,\n",
    "                                     test_feat_text, \n",
    "                                     test_desc_mat))\n"
   ]
  },
  {
   "cell_type": "code",
   "execution_count": 65,
   "metadata": {
    "collapsed": false
   },
   "outputs": [
    {
     "name": "stdout",
     "output_type": "stream",
     "text": [
      "[0]\ttrain-merror:0.295256\tval-merror:0.296221\n",
      "[1]\ttrain-merror:0.293635\tval-merror:0.294398\n",
      "[2]\ttrain-merror:0.284415\tval-merror:0.287408\n",
      "[3]\ttrain-merror:0.280439\tval-merror:0.287914\n",
      "[4]\ttrain-merror:0.276462\tval-merror:0.284571\n",
      "[5]\ttrain-merror:0.272713\tval-merror:0.282038\n",
      "[6]\ttrain-merror:0.269598\tval-merror:0.282747\n",
      "[7]\ttrain-merror:0.268914\tval-merror:0.281836\n",
      "[8]\ttrain-merror:0.26666\tval-merror:0.278594\n",
      "[9]\ttrain-merror:0.262683\tval-merror:0.2791\n",
      "[10]\ttrain-merror:0.260834\tval-merror:0.277682\n",
      "[11]\ttrain-merror:0.259163\tval-merror:0.27829\n",
      "[12]\ttrain-merror:0.256326\tval-merror:0.274035\n",
      "[13]\ttrain-merror:0.254553\tval-merror:0.274947\n",
      "[14]\ttrain-merror:0.252425\tval-merror:0.27363\n",
      "[15]\ttrain-merror:0.250424\tval-merror:0.273225\n",
      "[16]\ttrain-merror:0.248677\tval-merror:0.272515\n",
      "[17]\ttrain-merror:0.246929\tval-merror:0.273123\n",
      "[18]\ttrain-merror:0.245586\tval-merror:0.273529\n",
      "[19]\ttrain-merror:0.243408\tval-merror:0.273022\n"
     ]
    }
   ],
   "source": [
    "dtrain = xgb.DMatrix(X_train_concat, label= y_train)\n",
    "dval = xgb.DMatrix(X_test_concat, label=y_test)\n",
    "\n",
    "# specify parameters via map\n",
    "watchlist = [(dtrain,'train'), (dval,'val')]\n",
    "param = {'max_depth':3, 'eta':1, 'silent':1, 'num_class': 3, 'objective':'multi:softprob' }\n",
    "num_round = 20\n",
    "bst = xgb.train(param, dtrain, num_round, watchlist)\n"
   ]
  },
  {
   "cell_type": "code",
   "execution_count": 66,
   "metadata": {
    "collapsed": false
   },
   "outputs": [
    {
     "name": "stdout",
     "output_type": "stream",
     "text": [
      "0.611140264479\n"
     ]
    },
    {
     "data": {
      "text/plain": [
       "0.5554388867362321"
      ]
     },
     "execution_count": 66,
     "metadata": {},
     "output_type": "execute_result"
    }
   ],
   "source": [
    "preds = bst.predict(dval)\n",
    "print(log_loss(y_test, preds))\n",
    "log_loss(y_train, bst.predict(dtrain))"
   ]
  }
 ],
 "metadata": {
  "kernelspec": {
   "display_name": "Python 3",
   "language": "python",
   "name": "python3"
  },
  "language_info": {
   "codemirror_mode": {
    "name": "ipython",
    "version": 3
   },
   "file_extension": ".py",
   "mimetype": "text/x-python",
   "name": "python",
   "nbconvert_exporter": "python",
   "pygments_lexer": "ipython3",
   "version": "3.5.1"
  }
 },
 "nbformat": 4,
 "nbformat_minor": 0
}
